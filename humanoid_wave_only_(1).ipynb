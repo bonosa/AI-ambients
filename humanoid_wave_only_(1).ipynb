{
  "cells": [
    {
      "cell_type": "markdown",
      "metadata": {
        "id": "view-in-github",
        "colab_type": "text"
      },
      "source": [
        "<a href=\"https://colab.research.google.com/github/bonosa/AI-ambients/blob/main/humanoid_wave_only_(1).ipynb\" target=\"_parent\"><img src=\"https://colab.research.google.com/assets/colab-badge.svg\" alt=\"Open In Colab\"/></a>"
      ]
    },
    {
      "cell_type": "code",
      "execution_count": 1,
      "id": "8feaddb5",
      "metadata": {
        "colab": {
          "base_uri": "https://localhost:8080/"
        },
        "id": "8feaddb5",
        "outputId": "c8a6dfe9-0b14-4340-ef7b-f5de6fb6b2e0"
      },
      "outputs": [
        {
          "output_type": "stream",
          "name": "stdout",
          "text": [
            "Starting full environment setup...\n",
            "Setup complete.\n"
          ]
        }
      ],
      "source": [
        "# ==============================================================================\n",
        "# Setup Environment\n",
        "# ==============================================================================\n",
        "print(\"Starting full environment setup...\")\n",
        "!git clone https://github.com/google-deepmind/mujoco_menagerie.git > /dev/null 2>&1\n",
        "!apt-get install -y --no-install-recommends libgl1-mesa-glx libosmesa6-dev libglew2.2 > /dev/null 2>&1\n",
        "!apt-get install -y patchelf > /dev/null 2>&1\n",
        "!apt-get install -y xvfb > /dev/null 2>&1\n",
        "\n",
        "import os\n",
        "os.system(\"Xvfb :99 -screen 0 1024x768x24 &\")\n",
        "os.environ['DISPLAY'] = ':99'\n",
        "\n",
        "!pip install mujoco imageio-ffmpeg moviepy > /dev/null 2>&1\n",
        "print(\"Setup complete.\")\n"
      ]
    },
    {
      "cell_type": "code",
      "execution_count": 2,
      "id": "70b1c3d2",
      "metadata": {
        "colab": {
          "base_uri": "https://localhost:8080/"
        },
        "id": "70b1c3d2",
        "outputId": "63180588-56ec-4f67-9528-79c2a4225617"
      },
      "outputs": [
        {
          "output_type": "stream",
          "name": "stdout",
          "text": [
            "Loading Unitree H1 model …\n",
            "Model + renderer ready.\n"
          ]
        }
      ],
      "source": [
        "# ==============================================================================\n",
        "# Cell 2 – Load MuJoCo model and set up renderer\n",
        "# ==============================================================================\n",
        "import mujoco\n",
        "import numpy as np\n",
        "import imageio\n",
        "from google.colab import files\n",
        "\n",
        "print(\"Loading Unitree H1 model …\")\n",
        "model_path = \"mujoco_menagerie/unitree_h1/h1.xml\"\n",
        "model  = mujoco.MjModel.from_xml_path(model_path)\n",
        "data   = mujoco.MjData(model)\n",
        "\n",
        "# ── off-screen renderer ───────────────────────────────────────────────\n",
        "renderer = mujoco.Renderer(model, height=480, width=640)\n",
        "renderer.update_scene(data)             # initialise internal Scene\n",
        "\n",
        "# handle all MuJoCo versions (scene / scn / _scene)\n",
        "_scene = (getattr(renderer, \"scene\", None)\n",
        "          or getattr(renderer, \"scn\",   None)\n",
        "          or getattr(renderer, \"_scene\", None))\n",
        "\n",
        "# lock exposure & disable auto-exposure if available\n",
        "if _scene is not None:\n",
        "    if hasattr(_scene, \"exposure\"):\n",
        "        _scene.exposure = 2.0           # constant brightness\n",
        "    if hasattr(_scene, \"flags\") and hasattr(mujoco.mjtRndFlag, \"mjRND_AUTOMATIC\"):\n",
        "        _scene.flags &= ~mujoco.mjtRndFlag.mjRND_AUTOMATIC\n",
        "\n",
        "print(\"Model + renderer ready.\")\n"
      ]
    },
    {
      "cell_type": "code",
      "execution_count": 3,
      "id": "2834b419",
      "metadata": {
        "colab": {
          "base_uri": "https://localhost:8080/"
        },
        "id": "2834b419",
        "outputId": "113a7544-9883-43fd-d725-9463d815eb14"
      },
      "outputs": [
        {
          "output_type": "stream",
          "name": "stdout",
          "text": [
            "Configuring scene …\n",
            "Scene configured.\n"
          ]
        }
      ],
      "source": [
        "# ==============================================================================\n",
        "# Cell 3 – Scene configuration & lighting\n",
        "# ==============================================================================\n",
        "print(\"Configuring scene …\")\n",
        "\n",
        "# keep robot hovering\n",
        "model.opt.gravity[:] = 0\n",
        "mujoco.mj_forward(model, data)\n",
        "\n",
        "# camera & render options\n",
        "scene_option = mujoco.MjvOption()\n",
        "scene_option.geomgroup[1] = 0          # hide collision geoms\n",
        "scene_option.geomgroup[0] = 1          # show visual geoms\n",
        "\n",
        "camera = mujoco.MjvCamera()\n",
        "mujoco.mjv_defaultCamera(camera)\n",
        "camera.azimuth, camera.elevation = 135, -15\n",
        "camera.distance = 3.5\n",
        "camera.lookat[:] = [0, 0, 0.9]\n",
        "\n",
        "# ── blast every light ──────────────────────────────────────────\n",
        "for i in range(model.nlight):\n",
        "    model.light_ambient[i]  = [2, 2, 2]\n",
        "    model.light_diffuse[i]  = [2, 2, 2]\n",
        "    model.light_specular[i] = [2, 2, 2]\n",
        "    if hasattr(model, \"light_attenuation\"):\n",
        "        model.light_attenuation[i] = [1, 0, 0]   # no fall-off\n",
        "\n",
        "# turn light 0 into a high, directional “sun”\n",
        "if hasattr(model, \"light_directional\"):\n",
        "    model.light_directional[0] = 1               # 1 = directional\n",
        "    model.light_pos[0] = [0, 0, 10]              # ignored for directional\n",
        "    model.light_dir[0] = [0, 0, -1]              # shines straight down\n",
        "    if hasattr(model, \"light_castshadow\"):\n",
        "        model.light_castshadow[0] = 0            # disable shadows\n",
        "\n",
        "print(\"Scene configured.\")\n"
      ]
    },
    {
      "cell_type": "code",
      "execution_count": 4,
      "id": "4a762ca6",
      "metadata": {
        "colab": {
          "base_uri": "https://localhost:8080/"
        },
        "id": "4a762ca6",
        "outputId": "82e4b63f-0e18-49a4-9dfe-3de45706cab1"
      },
      "outputs": [
        {
          "output_type": "stream",
          "name": "stdout",
          "text": [
            "Getting motor IDs for the wave...\n",
            "Motor IDs acquired.\n"
          ]
        }
      ],
      "source": [
        "# ==============================================================================\n",
        "# Get Actuator IDs\n",
        "# ==============================================================================\n",
        "print(\"Getting motor IDs for the wave...\")\n",
        "left_shoulder_pitch_id = model.actuator('left_shoulder_pitch').id\n",
        "right_shoulder_pitch_id = model.actuator('right_shoulder_pitch').id\n",
        "print(\"Motor IDs acquired.\")\n"
      ]
    },
    {
      "cell_type": "code",
      "execution_count": 5,
      "id": "575738d8",
      "metadata": {
        "colab": {
          "base_uri": "https://localhost:8080/"
        },
        "id": "575738d8",
        "outputId": "08ccf9eb-0349-40aa-e9f0-3720b7f2cc0e"
      },
      "outputs": [
        {
          "output_type": "stream",
          "name": "stdout",
          "text": [
            "150 frames generated.\n"
          ]
        }
      ],
      "source": [
        "# ==============================================================================\n",
        "# Cell 5 – Generate marching + waving animation\n",
        "# ==============================================================================\n",
        "duration  = 5            # seconds\n",
        "fps       = 30\n",
        "n_frames  = duration * fps\n",
        "speed     = 0.4          # m/s forward\n",
        "frames    = []\n",
        "\n",
        "# joint indices\n",
        "l_sh_pitch = model.joint('left_shoulder_pitch').qposadr\n",
        "r_sh_pitch = model.joint('right_shoulder_pitch').qposadr\n",
        "l_hip      = model.joint('left_hip_pitch').qposadr\n",
        "r_hip      = model.joint('right_hip_pitch').qposadr\n",
        "l_knee     = model.joint('left_knee').qposadr\n",
        "r_knee     = model.joint('right_knee').qposadr\n",
        "\n",
        "root_x = 0  # qpos[0]\n",
        "\n",
        "for k in range(n_frames):\n",
        "    t   = k / fps\n",
        "    phi = 2 * np.pi * 1.2 * t        # 1.2 Hz march cadence\n",
        "\n",
        "    # legs\n",
        "    hip_amp, knee_amp = 0.5, 0.7\n",
        "    data.qpos[l_hip]  =  hip_amp  * np.sin(phi)\n",
        "    data.qpos[r_hip]  = -hip_amp  * np.sin(phi)\n",
        "    data.qpos[l_knee] =  knee_amp * np.sin(phi)\n",
        "    data.qpos[r_knee] = -knee_amp * np.sin(phi)\n",
        "\n",
        "    # arms waving\n",
        "    wave = 0.6 * np.sin(2 * np.pi * 1.0 * t)\n",
        "    data.qpos[l_sh_pitch] =  wave\n",
        "    data.qpos[r_sh_pitch] = -wave\n",
        "\n",
        "    # slide root forward\n",
        "    root_x += speed / fps\n",
        "    data.qpos[0] = root_x\n",
        "\n",
        "    mujoco.mj_forward(model, data)\n",
        "    renderer.update_scene(data, camera=camera, scene_option=scene_option)\n",
        "\n",
        "    # per-frame exposure clamp (stops auto-dimming)\n",
        "    if _scene is not None:\n",
        "        if hasattr(_scene, \"exposure\"):\n",
        "            _scene.exposure = 2.0\n",
        "        if (hasattr(_scene, \"flags\") and\n",
        "            hasattr(mujoco.mjtRndFlag, \"mjRND_AUTOMATIC\")):\n",
        "            _scene.flags &= ~mujoco.mjtRndFlag.mjRND_AUTOMATIC\n",
        "\n",
        "    frames.append(renderer.render())\n",
        "\n",
        "print(f\"{n_frames} frames generated.\")\n"
      ]
    },
    {
      "cell_type": "code",
      "execution_count": null,
      "id": "2614a1fb",
      "metadata": {
        "colab": {
          "base_uri": "https://localhost:8080/",
          "height": 52
        },
        "id": "2614a1fb",
        "outputId": "8688f871-f8c7-4c69-b8f6-8b2f32826213"
      },
      "outputs": [
        {
          "output_type": "stream",
          "name": "stdout",
          "text": [
            "Creating and downloading 'humanoid_wave_only.mp4'...\n"
          ]
        },
        {
          "output_type": "display_data",
          "data": {
            "text/plain": [
              "<IPython.core.display.Javascript object>"
            ],
            "application/javascript": [
              "\n",
              "    async function download(id, filename, size) {\n",
              "      if (!google.colab.kernel.accessAllowed) {\n",
              "        return;\n",
              "      }\n",
              "      const div = document.createElement('div');\n",
              "      const label = document.createElement('label');\n",
              "      label.textContent = `Downloading \"${filename}\": `;\n",
              "      div.appendChild(label);\n",
              "      const progress = document.createElement('progress');\n",
              "      progress.max = size;\n",
              "      div.appendChild(progress);\n",
              "      document.body.appendChild(div);\n",
              "\n",
              "      const buffers = [];\n",
              "      let downloaded = 0;\n",
              "\n",
              "      const channel = await google.colab.kernel.comms.open(id);\n",
              "      // Send a message to notify the kernel that we're ready.\n",
              "      channel.send({})\n",
              "\n",
              "      for await (const message of channel.messages) {\n",
              "        // Send a message to notify the kernel that we're ready.\n",
              "        channel.send({})\n",
              "        if (message.buffers) {\n",
              "          for (const buffer of message.buffers) {\n",
              "            buffers.push(buffer);\n",
              "            downloaded += buffer.byteLength;\n",
              "            progress.value = downloaded;\n",
              "          }\n",
              "        }\n",
              "      }\n",
              "      const blob = new Blob(buffers, {type: 'application/binary'});\n",
              "      const a = document.createElement('a');\n",
              "      a.href = window.URL.createObjectURL(blob);\n",
              "      a.download = filename;\n",
              "      div.appendChild(a);\n",
              "      a.click();\n",
              "      div.remove();\n",
              "    }\n",
              "  "
            ]
          },
          "metadata": {}
        },
        {
          "output_type": "display_data",
          "data": {
            "text/plain": [
              "<IPython.core.display.Javascript object>"
            ],
            "application/javascript": [
              "download(\"download_ad1fa0c9-8b9c-4cf3-b8ff-966da378eccb\", \"humanoid_wave_only.mp4\", 167095)"
            ]
          },
          "metadata": {}
        },
        {
          "output_type": "stream",
          "name": "stdout",
          "text": [
            "--- Process Complete. ---\n"
          ]
        }
      ],
      "source": [
        "# ==============================================================================\n",
        "# Export Video\n",
        "# ==============================================================================\n",
        "output_filename_mp4 = \"humanoid_wave_only.mp4\"\n",
        "print(f\"Creating and downloading '{output_filename_mp4}'...\")\n",
        "\n",
        "with imageio.get_writer(output_filename_mp4, fps=30) as writer:\n",
        "    for frame in frames:\n",
        "        writer.append_data(frame)\n",
        "\n",
        "files.download(output_filename_mp4)\n",
        "print(\"--- Process Complete. ---\")\n"
      ]
    }
  ],
  "metadata": {
    "language_info": {
      "name": "python"
    },
    "colab": {
      "provenance": [],
      "include_colab_link": true
    },
    "kernelspec": {
      "name": "python3",
      "display_name": "Python 3"
    }
  },
  "nbformat": 4,
  "nbformat_minor": 5
}