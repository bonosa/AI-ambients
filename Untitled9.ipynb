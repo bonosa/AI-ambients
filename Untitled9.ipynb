{
  "nbformat": 4,
  "nbformat_minor": 0,
  "metadata": {
    "colab": {
      "provenance": [],
      "authorship_tag": "ABX9TyMK8xbkGsgoUEwHXjBBLswE",
      "include_colab_link": true
    },
    "kernelspec": {
      "name": "python3",
      "display_name": "Python 3"
    },
    "language_info": {
      "name": "python"
    }
  },
  "cells": [
    {
      "cell_type": "markdown",
      "metadata": {
        "id": "view-in-github",
        "colab_type": "text"
      },
      "source": [
        "<a href=\"https://colab.research.google.com/github/bonosa/AI-ambients/blob/main/Untitled9.ipynb\" target=\"_parent\"><img src=\"https://colab.research.google.com/assets/colab-badge.svg\" alt=\"Open In Colab\"/></a>"
      ]
    },
    {
      "cell_type": "code",
      "execution_count": 6,
      "metadata": {
        "colab": {
          "base_uri": "https://localhost:8080/",
          "height": 173
        },
        "id": "Kq9IedaghBTA",
        "outputId": "fd8d4ea5-f594-4a94-f4d4-a750287b6983"
      },
      "outputs": [
        {
          "output_type": "stream",
          "name": "stdout",
          "text": [
            "Starting full environment setup...\n",
            "fatal: destination path 'mujoco_menagerie' already exists and is not an empty directory.\n",
            "Setup complete.\n",
            "Loading Unitree H1 model...\n",
            "Model loaded.\n",
            "Generating 150 high-quality frames...\n",
            "Frame generation complete.\n",
            "Creating and downloading 'unitree_h1_squat_final.mp4'...\n"
          ]
        },
        {
          "output_type": "display_data",
          "data": {
            "text/plain": [
              "<IPython.core.display.Javascript object>"
            ],
            "application/javascript": [
              "\n",
              "    async function download(id, filename, size) {\n",
              "      if (!google.colab.kernel.accessAllowed) {\n",
              "        return;\n",
              "      }\n",
              "      const div = document.createElement('div');\n",
              "      const label = document.createElement('label');\n",
              "      label.textContent = `Downloading \"${filename}\": `;\n",
              "      div.appendChild(label);\n",
              "      const progress = document.createElement('progress');\n",
              "      progress.max = size;\n",
              "      div.appendChild(progress);\n",
              "      document.body.appendChild(div);\n",
              "\n",
              "      const buffers = [];\n",
              "      let downloaded = 0;\n",
              "\n",
              "      const channel = await google.colab.kernel.comms.open(id);\n",
              "      // Send a message to notify the kernel that we're ready.\n",
              "      channel.send({})\n",
              "\n",
              "      for await (const message of channel.messages) {\n",
              "        // Send a message to notify the kernel that we're ready.\n",
              "        channel.send({})\n",
              "        if (message.buffers) {\n",
              "          for (const buffer of message.buffers) {\n",
              "            buffers.push(buffer);\n",
              "            downloaded += buffer.byteLength;\n",
              "            progress.value = downloaded;\n",
              "          }\n",
              "        }\n",
              "      }\n",
              "      const blob = new Blob(buffers, {type: 'application/binary'});\n",
              "      const a = document.createElement('a');\n",
              "      a.href = window.URL.createObjectURL(blob);\n",
              "      a.download = filename;\n",
              "      div.appendChild(a);\n",
              "      a.click();\n",
              "      div.remove();\n",
              "    }\n",
              "  "
            ]
          },
          "metadata": {}
        },
        {
          "output_type": "display_data",
          "data": {
            "text/plain": [
              "<IPython.core.display.Javascript object>"
            ],
            "application/javascript": [
              "download(\"download_1ec5d216-5186-45e9-b819-ed02123a1212\", \"unitree_h1_squat_final.mp4\", 35785)"
            ]
          },
          "metadata": {}
        },
        {
          "output_type": "stream",
          "name": "stdout",
          "text": [
            "--- Process Complete ---\n"
          ]
        }
      ],
      "source": [
        "# ==============================================================================\n",
        "# The Definitive Script for Animating the Unitree H1\n",
        "# ==============================================================================\n",
        "\n",
        "# --- 1. Master Setup ---\n",
        "# This block sets up the entire environment from scratch.\n",
        "print(\"Starting full environment setup...\")\n",
        "!git clone https://github.com/google-deepmind/mujoco_menagerie.git > /dev/null\n",
        "!apt-get install -y --no-install-recommends libgl1-mesa-glx libosmesa6-dev libglew2.2 > /dev/null\n",
        "!apt-get install -y patchelf > /dev/null\n",
        "!apt-get install -y xvfb > /dev/null\n",
        "import os\n",
        "os.system(\"Xvfb :99 -screen 0 1024x768x24 &\")\n",
        "os.environ['DISPLAY'] = ':99'\n",
        "!pip install mujoco imageio-ffmpeg moviepy > /dev/null\n",
        "print(\"Setup complete.\")\n",
        "\n",
        "# --- 2. Imports and Model Loading ---\n",
        "import mujoco\n",
        "import numpy as np\n",
        "import imageio\n",
        "from moviepy.editor import VideoFileClip\n",
        "from google.colab import files\n",
        "import matplotlib.pyplot as plt\n",
        "\n",
        "print(\"Loading Unitree H1 model...\")\n",
        "h1_xml_path = \"mujoco_menagerie/unitree_h1/h1.xml\"\n",
        "model = mujoco.MjModel.from_xml_path(h1_xml_path)\n",
        "data = mujoco.MjData(model)\n",
        "renderer = mujoco.Renderer(model, height=480, width=640)\n",
        "print(\"Model loaded.\")\n",
        "\n",
        "\n",
        "# --- 3. Scene and Visual Configuration (The Fix) ---\n",
        "# This section contains the corrected logic for visuals.\n",
        "mujoco.mj_forward(model, data)\n",
        "\n",
        "# a) Create a custom scene option to control what is visible.\n",
        "scene_option = mujoco.MjvOption()\n",
        "# Hide the simplified collision geometry (group 1)\n",
        "scene_option.geomgroup[1] = 0\n",
        "# Make sure the detailed visual geometry is visible (group 0)\n",
        "scene_option.geomgroup[0] = 1\n",
        "\n",
        "# b) Set the camera for a better view.\n",
        "# Create a camera object and set its properties\n",
        "camera = mujoco.MjvCamera()\n",
        "camera.azimuth = 135\n",
        "camera.elevation = -15\n",
        "camera.distance = 3.5\n",
        "camera.lookat = [0, 0, 0.9]\n",
        "\n",
        "\n",
        "# --- 4. Animation Generation ---\n",
        "duration = 5\n",
        "framerate = 30\n",
        "num_frames = duration * framerate\n",
        "output_filename_mp4 = \"unitree_h1_squat_final.mp4\"\n",
        "\n",
        "frames = []\n",
        "print(f\"Generating {num_frames} high-quality frames...\")\n",
        "\n",
        "# Find the indices of the joints we want to control\n",
        "left_hip_pitch_id = model.actuator('left_hip_pitch').id\n",
        "right_hip_pitch_id = model.actuator('right_hip_pitch').id\n",
        "left_knee_id = model.actuator('left_knee').id\n",
        "right_knee_id = model.actuator('right_knee').id\n",
        "\n",
        "\n",
        "mujoco.mj_resetData(model, data)\n",
        "\n",
        "for i in range(num_frames):\n",
        "  time = i / framerate\n",
        "  squat_angle = -0.7 * (0.5 * (1 - np.cos(2 * np.pi * 0.5 * time)))\n",
        "\n",
        "  # Use the joint indices to set the control signals\n",
        "  data.ctrl[left_hip_pitch_id] = squat_angle\n",
        "  data.ctrl[right_hip_pitch_id] = squat_angle\n",
        "  data.ctrl[left_knee_id] = -2 * squat_angle\n",
        "  data.ctrl[right_knee_id] = -2 * squat_angle\n",
        "\n",
        "\n",
        "  mujoco.mj_step(model, data)\n",
        "\n",
        "  # IMPORTANT: We pass the scene_option and the camera object to every update.\n",
        "  renderer.update_scene(data, scene_option=scene_option, camera=camera)\n",
        "\n",
        "  frame = renderer.render()\n",
        "  frames.append(frame)\n",
        "\n",
        "print(\"Frame generation complete.\")\n",
        "\n",
        "\n",
        "# --- 5. Create and Download Final Video ---\n",
        "print(f\"Creating and downloading '{output_filename_mp4}'...\")\n",
        "with imageio.get_writer(output_filename_mp4, fps=framerate) as writer:\n",
        "    for frame in frames:\n",
        "        writer.append_data(frame)\n",
        "\n",
        "files.download(output_filename_mp4)\n",
        "print(\"--- Process Complete ---\")"
      ]
    }
  ]
}