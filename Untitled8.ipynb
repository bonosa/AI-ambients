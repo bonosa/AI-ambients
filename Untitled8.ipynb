{
  "nbformat": 4,
  "nbformat_minor": 0,
  "metadata": {
    "colab": {
      "provenance": [],
      "authorship_tag": "ABX9TyPQOWjgaNKQv3hCOf7qasRY",
      "include_colab_link": true
    },
    "kernelspec": {
      "name": "python3",
      "display_name": "Python 3"
    },
    "language_info": {
      "name": "python"
    }
  },
  "cells": [
    {
      "cell_type": "markdown",
      "metadata": {
        "id": "view-in-github",
        "colab_type": "text"
      },
      "source": [
        "<a href=\"https://colab.research.google.com/github/bonosa/AI-ambients/blob/main/Untitled8.ipynb\" target=\"_parent\"><img src=\"https://colab.research.google.com/assets/colab-badge.svg\" alt=\"Open In Colab\"/></a>"
      ]
    },
    {
      "cell_type": "code",
      "execution_count": 1,
      "metadata": {
        "colab": {
          "base_uri": "https://localhost:8080/"
        },
        "id": "03FRXMpgWvGm",
        "outputId": "771cf396-d812-4973-e3ed-6d9b484c2497"
      },
      "outputs": [
        {
          "output_type": "stream",
          "name": "stdout",
          "text": [
            "Cloning the complete robot model repository from GitHub...\n",
            "Cloning into 'mujoco_menagerie'...\n",
            "remote: Enumerating objects: 5939, done.\u001b[K\n",
            "remote: Counting objects: 100% (153/153), done.\u001b[K\n",
            "remote: Compressing objects: 100% (130/130), done.\u001b[K\n",
            "remote: Total 5939 (delta 37), reused 61 (delta 23), pack-reused 5786 (from 3)\u001b[K\n",
            "Receiving objects: 100% (5939/5939), 413.32 MiB | 18.27 MiB/s, done.\n",
            "Resolving deltas: 100% (1954/1954), done.\n",
            "Updating files: 100% (2109/2109), done.\n",
            "Repository cloned successfully.\n",
            "Installing system dependencies for the virtual display...\n",
            "System dependencies installed.\n",
            "Starting virtual display...\n",
            "Virtual display started.\n",
            "Installing Python libraries (mujoco, imageio)...\n",
            "Python libraries installed.\n",
            "\n",
            "\u001b[1m--- MASTER SETUP COMPLETE ---\u001b[0m\n",
            "The environment is ready. You can now run the simulation cell.\n"
          ]
        }
      ],
      "source": [
        "# === The Final, Definitive Setup Cell (Version 3.0) ===\n",
        "# This one cell does it all: gets the 3D models, sets up the virtual screen, and installs the libraries.\n",
        "\n",
        "# --- 1. Clone the Entire Robot Model Repository from GitHub ---\n",
        "# This downloads all necessary files (the XML blueprint AND the .obj 3D models)\n",
        "# and ensures they are in the correct folder structure.\n",
        "print(\"Cloning the complete robot model repository from GitHub...\")\n",
        "!git clone https://github.com/google-deepmind/mujoco_menagerie.git > /dev/null\n",
        "print(\"Repository cloned successfully.\")\n",
        "\n",
        "# --- 2. Install System Dependencies for the Virtual Display ---\n",
        "print(\"Installing system dependencies for the virtual display...\")\n",
        "!apt-get install -y --no-install-recommends libgl1-mesa-glx libosmesa6-dev libglew2.2 > /dev/null\n",
        "!apt-get install -y patchelf > /dev/null\n",
        "!apt-get install -y xvfb > /dev/null\n",
        "print(\"System dependencies installed.\")\n",
        "\n",
        "# --- 3. Start the Virtual Display ---\n",
        "print(\"Starting virtual display...\")\n",
        "import os\n",
        "os.system(\"Xvfb :99 -screen 0 1024x768x24 &\")\n",
        "os.environ['DISPLAY'] = ':99'\n",
        "print(\"Virtual display started.\")\n",
        "\n",
        "# --- 4. Install Python Libraries ---\n",
        "print(\"Installing Python libraries (mujoco, imageio)...\")\n",
        "!pip install mujoco imageio-ffmpeg > /dev/null\n",
        "print(\"Python libraries installed.\")\n",
        "\n",
        "print(\"\\n\\033[1m--- MASTER SETUP COMPLETE ---\\033[0m\")\n",
        "print(\"The environment is ready. You can now run the simulation cell.\")"
      ]
    },
    {
      "cell_type": "code",
      "source": [
        "import mujoco\n",
        "import matplotlib.pyplot as plt\n",
        "\n",
        "# The path to the XML file is now a LOCAL path inside our Colab environment\n",
        "# because we cloned the whole repository in the setup cell.\n",
        "franka_xml_path = \"mujoco_menagerie/google_franka_emika_panda/franka_emika_panda.xml\"\n",
        "\n",
        "print(\"Attempting to load the Franka Panda model from the local file...\")\n",
        "try:\n",
        "    model = mujoco.MjModel.from_xml_path(franka_xml_path)\n",
        "    data = mujoco.MjData(model)\n",
        "    renderer = mujoco.Renderer(model, height=480, width=640)\n",
        "\n",
        "    # Step the simulation forward to settle the model.\n",
        "    mujoco.mj_forward(model, data)\n",
        "\n",
        "    # Render the first frame.\n",
        "    renderer.update_scene(data)\n",
        "    frame = renderer.render()\n",
        "\n",
        "    print(\"\\n\\033[1m--- VICTORY AT LAST! ---\\033[0m\")\n",
        "\n",
        "    plt.imshow(frame)\n",
        "    plt.title(\"Franka Panda Robot: Loaded and Ready for Commands!\")\n",
        "    plt.axis('off')\n",
        "    plt.show()\n",
        "\n",
        "except Exception as e:\n",
        "    print(f\"\\n--- ERROR ---\")\n",
        "    print(f\"An unexpected error occurred: {e}\")\n",
        ""
      ],
      "metadata": {
        "colab": {
          "base_uri": "https://localhost:8080/"
        },
        "id": "Xjw9EenmYTH8",
        "outputId": "89baa6da-f80e-4135-aa8c-eb768a222bc1"
      },
      "execution_count": 5,
      "outputs": [
        {
          "output_type": "stream",
          "name": "stdout",
          "text": [
            "Attempting to load the Franka Panda model from the local file...\n",
            "\n",
            "--- ERROR ---\n",
            "An unexpected error occurred: ParseXML: Error opening file 'mujoco_menagerie/google_franka_emika_panda/franka_emika_panda.xml': No such file or directory\n"
          ]
        }
      ]
    },
    {
      "cell_type": "code",
      "source": [
        "# Let's see what files and folders currently exist in our environment.\n",
        "print(\"--- Contents of current directory: ---\")\n",
        "!ls -l"
      ],
      "metadata": {
        "colab": {
          "base_uri": "https://localhost:8080/"
        },
        "id": "pl4qZF_EZKOo",
        "outputId": "e1c10241-ef99-45a8-d3d5-a54e1803f00c"
      },
      "execution_count": 3,
      "outputs": [
        {
          "output_type": "stream",
          "name": "stdout",
          "text": [
            "--- Contents of current directory: ---\n",
            "total 8\n",
            "drwxr-xr-x 62 root root 4096 Jun 18 04:46 mujoco_menagerie\n",
            "drwxr-xr-x  1 root root 4096 Jun 16 13:32 sample_data\n"
          ]
        }
      ]
    },
    {
      "cell_type": "code",
      "source": [
        "# Use the 'find' command to locate our specific XML file\n",
        "print(\"Searching for the robot's blueprint (franka_emika_panda.xml)...\")\n",
        "!find mujoco_menagerie -name \"franka_emika_panda.xml\""
      ],
      "metadata": {
        "colab": {
          "base_uri": "https://localhost:8080/"
        },
        "id": "qGZVe3m7aL7L",
        "outputId": "cfe79aea-08d4-470e-b28b-0c4bb3d570a3"
      },
      "execution_count": 7,
      "outputs": [
        {
          "output_type": "stream",
          "name": "stdout",
          "text": [
            "Searching for the robot's blueprint (franka_emika_panda.xml)...\n"
          ]
        }
      ]
    },
    {
      "cell_type": "code",
      "source": [
        "# Use the 'find' command with the correct filename: panda.xml\n",
        "print(\"Searching for the REAL robot blueprint (panda.xml)...\")\n",
        "!find mujoco_menagerie -name \"panda.xml\"\n"
      ],
      "metadata": {
        "colab": {
          "base_uri": "https://localhost:8080/"
        },
        "id": "ATNScDQId0Am",
        "outputId": "6b8ff803-61d0-4996-c046-35165e7de587"
      },
      "execution_count": 8,
      "outputs": [
        {
          "output_type": "stream",
          "name": "stdout",
          "text": [
            "Searching for the REAL robot blueprint (panda.xml)...\n",
            "mujoco_menagerie/franka_emika_panda/panda.xml\n"
          ]
        }
      ]
    },
    {
      "cell_type": "code",
      "source": [
        "import mujoco\n",
        "import matplotlib.pyplot as plt\n",
        "\n",
        "# The corrected path with the correct filename: panda.xml\n",
        "franka_xml_path = \"mujoco_menagerie/franka_emika_panda/panda.xml\"\n",
        "\n",
        "print(\"Attempting to load the Franka Panda model from the correct local file...\")\n",
        "try:\n",
        "    model = mujoco.MjModel.from_xml_path(franka_xml_path)\n",
        "    data = mujoco.MjData(model)\n",
        "    renderer = mujoco.Renderer(model, height=480, width=640)\n",
        "\n",
        "    # Step the simulation forward to settle the model.\n",
        "    mujoco.mj_forward(model, data)\n",
        "\n",
        "    # Render the first frame.\n",
        "    renderer.update_scene(data)\n",
        "    frame = renderer.render()\n",
        "\n",
        "    print(\"\\n\\033[1m--- VICTORY. REALLY. ---\\033[0m\")\n",
        "\n",
        "    plt.imshow(frame)\n",
        "    plt.title(\"Franka Panda Robot: Loaded and Ready for Commands!\")\n",
        "    plt.axis('off')\n",
        "    plt.show()\n",
        "\n",
        "except Exception as e:\n",
        "    print(f\"\\n--- ERROR ---\")\n",
        "    print(f\"An unexpected error occurred: {e}\")\n"
      ],
      "metadata": {
        "colab": {
          "base_uri": "https://localhost:8080/",
          "height": 480
        },
        "id": "gDOjlNN0eK0q",
        "outputId": "6ed7e7fc-41d3-4989-9681-fd92340b4f6b"
      },
      "execution_count": 10,
      "outputs": [
        {
          "output_type": "stream",
          "name": "stdout",
          "text": [
            "Attempting to load the Franka Panda model from the correct local file...\n",
            "\n",
            "\u001b[1m--- VICTORY. REALLY. ---\u001b[0m\n"
          ]
        },
        {
          "output_type": "display_data",
          "data": {
            "text/plain": [
              "<Figure size 640x480 with 1 Axes>"
            ],
            "image/png": "[encoded data removed]"
          },
          "metadata": {}
        }
      ]
    },
    {
      "cell_type": "code",
      "source": [
        "import numpy as np\n",
        "import imageio\n",
        "from google.colab import files\n",
        "\n",
        "# --- Let's make the robot dance! ---\n",
        "duration = 10  # The animation will be 10 seconds long\n",
        "framerate = 30 # Let's make it a smooth 30 frames-per-second\n",
        "num_frames = duration * framerate\n",
        "\n",
        "frames = []\n",
        "print(f\"Generating a {duration}-second animation ({num_frames} frames)...\")\n",
        "\n",
        "# Reset the simulation to a neutral starting pose\n",
        "mujoco.mj_resetData(model, data)\n",
        "\n",
        "for i in range(num_frames):\n",
        "  # Calculate a smoothly changing time variable for our motion\n",
        "  time = i / framerate\n",
        "\n",
        "  # --- This is where you are the choreographer ---\n",
        "  # We'll use sine waves to create smooth, oscillating movements.\n",
        "\n",
        "  # Move joint 1 (base rotation) back and forth slowly\n",
        "  joint1_angle = 0.8 * np.sin(time)\n",
        "\n",
        "  joint2_angle = 0.8 * np.sin(1.5* time)\n",
        "\n",
        "  # Move joint 4 (the main elbow joint) up and down a bit faster\n",
        "  joint4_angle = -1.5 + 0.5 * np.sin(2 * time)\n",
        "\n",
        "  # Send the commands to the robot's motors\n",
        "  data.ctrl[0] = joint1_angle  # Command for joint 1\n",
        "  data.ctrl[1]=\n",
        "  data.ctrl[3] = joint4_angle  # Command for joint 4\n",
        "\n",
        "  # Step the physics simulation forward\n",
        "  mujoco.mj_step(model, data)\n",
        "\n",
        "  # Render the new frame and add it to our list\n",
        "  renderer.update_scene(data)\n",
        "  frame = renderer.render()\n",
        "  frames.append(frame)\n",
        "\n",
        "# --- Create and Download the Final Animation ---\n",
        "output_filename = \"franka_dance.gif\"\n",
        "print(f\"Creating and downloading your masterpiece: '{output_filename}'...\")\n",
        "imageio.mimsave(output_filename, frames, fps=framerate, loop=0)\n",
        "files.download(output_filename)\n",
        "\n",
        "print(\"\\n--- MISSION COMPLETE, CHAMPION! ---\")"
      ],
      "metadata": {
        "colab": {
          "base_uri": "https://localhost:8080/",
          "height": 86
        },
        "id": "I75vj2VQfdt7",
        "outputId": "9f20a62a-7c3b-4666-8061-759f501bf74e"
      },
      "execution_count": 11,
      "outputs": [
        {
          "output_type": "stream",
          "name": "stdout",
          "text": [
            "Generating a 10-second animation (300 frames)...\n",
            "Creating and downloading your masterpiece: 'franka_dance.gif'...\n"
          ]
        },
        {
          "output_type": "display_data",
          "data": {
            "text/plain": [
              "<IPython.core.display.Javascript object>"
            ],
            "application/javascript": [
              "\n",
              "    async function download(id, filename, size) {\n",
              "      if (!google.colab.kernel.accessAllowed) {\n",
              "        return;\n",
              "      }\n",
              "      const div = document.createElement('div');\n",
              "      const label = document.createElement('label');\n",
              "      label.textContent = `Downloading \"${filename}\": `;\n",
              "      div.appendChild(label);\n",
              "      const progress = document.createElement('progress');\n",
              "      progress.max = size;\n",
              "      div.appendChild(progress);\n",
              "      document.body.appendChild(div);\n",
              "\n",
              "      const buffers = [];\n",
              "      let downloaded = 0;\n",
              "\n",
              "      const channel = await google.colab.kernel.comms.open(id);\n",
              "      // Send a message to notify the kernel that we're ready.\n",
              "      channel.send({})\n",
              "\n",
              "      for await (const message of channel.messages) {\n",
              "        // Send a message to notify the kernel that we're ready.\n",
              "        channel.send({})\n",
              "        if (message.buffers) {\n",
              "          for (const buffer of message.buffers) {\n",
              "            buffers.push(buffer);\n",
              "            downloaded += buffer.byteLength;\n",
              "            progress.value = downloaded;\n",
              "          }\n",
              "        }\n",
              "      }\n",
              "      const blob = new Blob(buffers, {type: 'application/binary'});\n",
              "      const a = document.createElement('a');\n",
              "      a.href = window.URL.createObjectURL(blob);\n",
              "      a.download = filename;\n",
              "      div.appendChild(a);\n",
              "      a.click();\n",
              "      div.remove();\n",
              "    }\n",
              "  "
            ]
          },
          "metadata": {}
        },
        {
          "output_type": "display_data",
          "data": {
            "text/plain": [
              "<IPython.core.display.Javascript object>"
            ],
            "application/javascript": [
              "download(\"download_c156764c-c6aa-4f18-8dfb-41c7a23fb2cd\", \"franka_dance.gif\", 4466726)"
            ]
          },
          "metadata": {}
        },
        {
          "output_type": "stream",
          "name": "stdout",
          "text": [
            "\n",
            "--- MISSION COMPLETE, CHAMPION! ---\n"
          ]
        }
      ]
    },
    {
      "cell_type": "code",
      "source": [
        "import numpy as np\n",
        "import imageio\n",
        "from moviepy.editor import VideoFileClip\n",
        "from google.colab import files\n",
        "import mujoco\n",
        "\n",
        "# --- Animation Parameters ---\n",
        "duration = 15  # Set your desired duration in seconds\n",
        "framerate = 30 # Good quality for video\n",
        "num_frames = duration * framerate\n",
        "output_filename_mp4 = \"my_final_robot_dance.mp4\"\n",
        "temp_gif_for_conversion = \"temp.gif\"\n",
        "\n",
        "\n",
        "# --- 1. Frame Generation ---\n",
        "frames = []\n",
        "print(f\"Generating {num_frames} frames for your {duration}-second masterpiece...\")\n",
        "\n",
        "# Reset the robot to a neutral starting pose\n",
        "mujoco.mj_resetData(model, data)\n",
        "\n",
        "for i in range(num_frames):\n",
        "  time = i / framerate\n",
        "\n",
        "  # --- YOUR CUSTOM CHOREOGRAPHY ---\n",
        "  # This section includes the logic for all three joints.\n",
        "  # Feel free to tweak the numbers to perfect your dance!\n",
        "\n",
        "  # Joint 0 (Base/Waist) - Swings side to side\n",
        "  data.ctrl[0] = 0.8 * np.sin(time)\n",
        "\n",
        "  # Joint 1 (Shoulder Tilt) - YOUR NEW MOVE! Tilts the arm up and down.\n",
        "  data.ctrl[1] = -0.5 + 0.5 * np.sin(2.5 * time) # Using a different frequency for variety\n",
        "\n",
        "  # Joint 3 (Elbow) - Bends and unbends\n",
        "  data.ctrl[3] = -1.5 + 0.5 * np.sin(2 * time)\n",
        "\n",
        "  # Step the simulation and render the frame\n",
        "  mujoco.mj_step(model, data)\n",
        "  renderer.update_scene(data)\n",
        "  frame = renderer.render()\n",
        "  frames.append(frame)\n",
        "\n",
        "print(\"Frame generation complete.\")\n",
        "\n",
        "\n",
        "# --- 2. Create and Convert Video ---\n",
        "print(\"Creating temporary GIF...\")\n",
        "# We create a GIF first as an easy intermediate step\n",
        "imageio.mimsave(temp_gif_for_conversion, frames, fps=framerate, loop=0)\n",
        "\n",
        "print(\"Converting GIF to MP4 for higher quality...\")\n",
        "clip = VideoFileClip(temp_gif_for_conversion)\n",
        "clip.write_videofile(output_filename_mp4, codec='libx264', fps=framerate)\n",
        "clip.close()\n",
        "\n",
        "print(f\"MP4 '{output_filename_mp4}' created successfully.\")\n",
        "\n",
        "\n",
        "# --- 3. Download Your Final MP4 ---\n",
        "print(\"Preparing final download...\")\n",
        "files.download(output_filename_mp4)\n"
      ],
      "metadata": {
        "colab": {
          "base_uri": "https://localhost:8080/",
          "height": 260
        },
        "id": "y1Kj3VAKkZIy",
        "outputId": "82285d8b-daf1-4095-e176-f2c8dfbc54c3"
      },
      "execution_count": 12,
      "outputs": [
        {
          "output_type": "stream",
          "name": "stderr",
          "text": [
            "WARNING:py.warnings:/usr/local/lib/python3.11/dist-packages/moviepy/video/io/sliders.py:61: SyntaxWarning: \"is\" with a literal. Did you mean \"==\"?\n",
            "  if event.key is 'enter':\n",
            "\n"
          ]
        },
        {
          "output_type": "stream",
          "name": "stdout",
          "text": [
            "Generating 450 frames for your 15-second masterpiece...\n",
            "Frame generation complete.\n",
            "Creating temporary GIF...\n",
            "Converting GIF to MP4 for higher quality...\n",
            "Moviepy - Building video my_final_robot_dance.mp4.\n",
            "Moviepy - Writing video my_final_robot_dance.mp4\n",
            "\n"
          ]
        },
        {
          "output_type": "stream",
          "name": "stderr",
          "text": []
        },
        {
          "output_type": "stream",
          "name": "stdout",
          "text": [
            "Moviepy - Done !\n",
            "Moviepy - video ready my_final_robot_dance.mp4\n",
            "MP4 'my_final_robot_dance.mp4' created successfully.\n",
            "Preparing final download...\n"
          ]
        },
        {
          "output_type": "display_data",
          "data": {
            "text/plain": [
              "<IPython.core.display.Javascript object>"
            ],
            "application/javascript": [
              "\n",
              "    async function download(id, filename, size) {\n",
              "      if (!google.colab.kernel.accessAllowed) {\n",
              "        return;\n",
              "      }\n",
              "      const div = document.createElement('div');\n",
              "      const label = document.createElement('label');\n",
              "      label.textContent = `Downloading \"${filename}\": `;\n",
              "      div.appendChild(label);\n",
              "      const progress = document.createElement('progress');\n",
              "      progress.max = size;\n",
              "      div.appendChild(progress);\n",
              "      document.body.appendChild(div);\n",
              "\n",
              "      const buffers = [];\n",
              "      let downloaded = 0;\n",
              "\n",
              "      const channel = await google.colab.kernel.comms.open(id);\n",
              "      // Send a message to notify the kernel that we're ready.\n",
              "      channel.send({})\n",
              "\n",
              "      for await (const message of channel.messages) {\n",
              "        // Send a message to notify the kernel that we're ready.\n",
              "        channel.send({})\n",
              "        if (message.buffers) {\n",
              "          for (const buffer of message.buffers) {\n",
              "            buffers.push(buffer);\n",
              "            downloaded += buffer.byteLength;\n",
              "            progress.value = downloaded;\n",
              "          }\n",
              "        }\n",
              "      }\n",
              "      const blob = new Blob(buffers, {type: 'application/binary'});\n",
              "      const a = document.createElement('a');\n",
              "      a.href = window.URL.createObjectURL(blob);\n",
              "      a.download = filename;\n",
              "      div.appendChild(a);\n",
              "      a.click();\n",
              "      div.remove();\n",
              "    }\n",
              "  "
            ]
          },
          "metadata": {}
        },
        {
          "output_type": "display_data",
          "data": {
            "text/plain": [
              "<IPython.core.display.Javascript object>"
            ],
            "application/javascript": [
              "download(\"download_b0e8cad1-f00c-4e4e-9766-c259ba1faa41\", \"my_final_robot_dance.mp4\", 205292)"
            ]
          },
          "metadata": {}
        }
      ]
    },
    {
      "cell_type": "code",
      "source": [
        "import numpy as np\n",
        "import imageio\n",
        "from moviepy.editor import VideoFileClip\n",
        "from google.colab import files\n",
        "import mujoco\n",
        "\n",
        "# === The Encore: 4-Joint Animation Script ===\n",
        "\n",
        "# --- Animation Parameters ---\n",
        "duration = 15\n",
        "framerate = 30\n",
        "num_frames = duration * framerate\n",
        "output_filename_mp4 = \"franka_the_encore.mp4\"\n",
        "temp_gif_for_conversion = \"temp_encore.gif\"\n",
        "\n",
        "\n",
        "# --- 1. Frame Generation ---\n",
        "frames = []\n",
        "print(f\"Generating {num_frames} frames for your final masterpiece...\")\n",
        "\n",
        "mujoco.mj_resetData(model, data) # Reset to starting pose\n",
        "\n",
        "for i in range(num_frames):\n",
        "  time = i / framerate\n",
        "\n",
        "  # --- THE FINAL CHOREOGRAPHY (4 JOINTS) ---\n",
        "\n",
        "  # Joint 0 (Base/Waist) - Swings side to side\n",
        "  data.ctrl[0] = 0.8 * np.sin(time)\n",
        "\n",
        "  # Joint 1 (Shoulder Tilt) - Tilts the arm up and down\n",
        "  data.ctrl[1] = -0.5 + 0.5 * np.sin(2.5 * time)\n",
        "\n",
        "  # Joint 3 (Elbow) - Bends and unbends\n",
        "  data.ctrl[3] = -1.5 + 0.5 * np.sin(2 * time)\n",
        "\n",
        "  # THE NEW MOVE: Joint 5 (Wrist Bend) - A faster wave motion!\n",
        "  data.ctrl[5] = 0.7 * np.sin(4 * time)\n",
        "\n",
        "\n",
        "  # Step the simulation and render the frame\n",
        "  mujoco.mj_step(model, data)\n",
        "  renderer.update_scene(data)\n",
        "  frame = renderer.render()\n",
        "  frames.append(frame)\n",
        "\n",
        "print(\"Frame generation complete.\")\n",
        "\n",
        "\n",
        "# --- 2. Create and Convert Video ---\n",
        "print(\"Creating temporary GIF...\")\n",
        "imageio.mimsave(temp_gif_for_conversion, frames, fps=framerate, loop=0)\n",
        "\n",
        "print(\"Converting GIF to MP4...\")\n",
        "clip = VideoFileClip(temp_gif_for_conversion)\n",
        "clip.write_videofile(output_filename_mp4, codec='libx264', fps=framerate, logger=None) # logger=None cleans up the output text\n",
        "clip.close()\n",
        "\n",
        "print(f\"MP4 '{output_filename_mp4}' created successfully.\")\n",
        "\n",
        "\n",
        "# --- 3. Download Your Final MP4 ---\n",
        "print(\"Preparing final download...\")\n",
        "files.download(output_filename_mp4)"
      ],
      "metadata": {
        "colab": {
          "base_uri": "https://localhost:8080/",
          "height": 121
        },
        "id": "4Ac52JbYmqdf",
        "outputId": "2a11e948-b624-4fc3-8139-9a49dc9975e6"
      },
      "execution_count": 13,
      "outputs": [
        {
          "output_type": "stream",
          "name": "stdout",
          "text": [
            "Generating 450 frames for your final masterpiece...\n",
            "Frame generation complete.\n",
            "Creating temporary GIF...\n",
            "Converting GIF to MP4...\n",
            "MP4 'franka_the_encore.mp4' created successfully.\n",
            "Preparing final download...\n"
          ]
        },
        {
          "output_type": "display_data",
          "data": {
            "text/plain": [
              "<IPython.core.display.Javascript object>"
            ],
            "application/javascript": [
              "\n",
              "    async function download(id, filename, size) {\n",
              "      if (!google.colab.kernel.accessAllowed) {\n",
              "        return;\n",
              "      }\n",
              "      const div = document.createElement('div');\n",
              "      const label = document.createElement('label');\n",
              "      label.textContent = `Downloading \"${filename}\": `;\n",
              "      div.appendChild(label);\n",
              "      const progress = document.createElement('progress');\n",
              "      progress.max = size;\n",
              "      div.appendChild(progress);\n",
              "      document.body.appendChild(div);\n",
              "\n",
              "      const buffers = [];\n",
              "      let downloaded = 0;\n",
              "\n",
              "      const channel = await google.colab.kernel.comms.open(id);\n",
              "      // Send a message to notify the kernel that we're ready.\n",
              "      channel.send({})\n",
              "\n",
              "      for await (const message of channel.messages) {\n",
              "        // Send a message to notify the kernel that we're ready.\n",
              "        channel.send({})\n",
              "        if (message.buffers) {\n",
              "          for (const buffer of message.buffers) {\n",
              "            buffers.push(buffer);\n",
              "            downloaded += buffer.byteLength;\n",
              "            progress.value = downloaded;\n",
              "          }\n",
              "        }\n",
              "      }\n",
              "      const blob = new Blob(buffers, {type: 'application/binary'});\n",
              "      const a = document.createElement('a');\n",
              "      a.href = window.URL.createObjectURL(blob);\n",
              "      a.download = filename;\n",
              "      div.appendChild(a);\n",
              "      a.click();\n",
              "      div.remove();\n",
              "    }\n",
              "  "
            ]
          },
          "metadata": {}
        },
        {
          "output_type": "display_data",
          "data": {
            "text/plain": [
              "<IPython.core.display.Javascript object>"
            ],
            "application/javascript": [
              "download(\"download_1a22edbf-e2f9-4f17-990b-19aa9c5be537\", \"franka_the_encore.mp4\", 201048)"
            ]
          },
          "metadata": {}
        }
      ]
    },
    {
      "cell_type": "code",
      "source": [
        "import numpy as np\n",
        "import imageio\n",
        "from moviepy.editor import VideoFileClip\n",
        "from google.colab import files\n",
        "import mujoco\n",
        "\n",
        "# === The Ultimate Choreography Script ===\n",
        "\n",
        "# --- Animation Parameters ---\n",
        "duration = 15\n",
        "framerate = 30\n",
        "num_frames = duration * framerate\n",
        "output_filename_mp4 = \"franka_ultimate_dance.mp4\"\n",
        "temp_gif_for_conversion = \"temp_ultimate.gif\"\n",
        "\n",
        "\n",
        "# --- 1. Frame Generation ---\n",
        "frames = []\n",
        "print(f\"Generating {num_frames} frames for the ULTIMATE dance...\")\n",
        "\n",
        "mujoco.mj_resetData(model, data) # Reset to starting pose\n",
        "\n",
        "for i in range(num_frames):\n",
        "  time = i / framerate\n",
        "\n",
        "  # --- YOUR 5-JOINT CHOREOGRAPHY ---\n",
        "\n",
        "  # Joint 0 (Base/Waist) - Swings side to side\n",
        "  data.ctrl[0] = 0.8 * np.sin(time)\n",
        "\n",
        "  # Joint 1 (Shoulder Tilt) - Tilts the arm up and down\n",
        "  data.ctrl[1] = -0.5 + 0.5 * np.sin(2.5 * time)\n",
        "\n",
        "  # Joint 3 (Elbow) - Bends and unbends\n",
        "  data.ctrl[3] = -1.5 + 0.5 * np.sin(2 * time)\n",
        "\n",
        "  # Joint 5 (Wrist Bend) - The \"waving\" motion\n",
        "  data.ctrl[5] = 0.7 * np.sin(4 * time)\n",
        "\n",
        "  # THE FINAL MOVE: Joint 6 (Hand Twist) - A fast flutter!\n",
        "  data.ctrl[6] = 1.0 * np.sin(6 * time)\n",
        "\n",
        "  # Step the simulation and render the frame\n",
        "  mujoco.mj_step(model, data)\n",
        "  renderer.update_scene(data)\n",
        "  frame = renderer.render()\n",
        "  frames.append(frame)\n",
        "\n",
        "print(\"Frame generation complete.\")\n",
        "\n",
        "\n",
        "# --- 2. Create and Convert Video ---\n",
        "print(\"Creating temporary GIF...\")\n",
        "imageio.mimsave(temp_gif_for_conversion, frames, fps=framerate, loop=0)\n",
        "\n",
        "print(\"Converting GIF to MP4...\")\n",
        "clip = VideoFileClip(temp_gif_for_conversion)\n",
        "clip.write_videofile(output_filename_mp4, codec='libx264', fps=framerate, logger=None)\n",
        "clip.close()\n",
        "\n",
        "print(f\"MP4 '{output_filename_mp4}' created successfully.\")\n",
        "\n",
        "\n",
        "# --- 3. Download Your Final MP4 ---\n",
        "print(\"Preparing final download...\")\n",
        "files.download(output_filename_mp4)\n"
      ],
      "metadata": {
        "colab": {
          "base_uri": "https://localhost:8080/",
          "height": 121
        },
        "id": "KbR19xfCpITn",
        "outputId": "7d65c618-165d-44d4-c3df-0718bde4bef5"
      },
      "execution_count": 14,
      "outputs": [
        {
          "output_type": "stream",
          "name": "stdout",
          "text": [
            "Generating 450 frames for the ULTIMATE dance...\n",
            "Frame generation complete.\n",
            "Creating temporary GIF...\n",
            "Converting GIF to MP4...\n",
            "MP4 'franka_ultimate_dance.mp4' created successfully.\n",
            "Preparing final download...\n"
          ]
        },
        {
          "output_type": "display_data",
          "data": {
            "text/plain": [
              "<IPython.core.display.Javascript object>"
            ],
            "application/javascript": [
              "\n",
              "    async function download(id, filename, size) {\n",
              "      if (!google.colab.kernel.accessAllowed) {\n",
              "        return;\n",
              "      }\n",
              "      const div = document.createElement('div');\n",
              "      const label = document.createElement('label');\n",
              "      label.textContent = `Downloading \"${filename}\": `;\n",
              "      div.appendChild(label);\n",
              "      const progress = document.createElement('progress');\n",
              "      progress.max = size;\n",
              "      div.appendChild(progress);\n",
              "      document.body.appendChild(div);\n",
              "\n",
              "      const buffers = [];\n",
              "      let downloaded = 0;\n",
              "\n",
              "      const channel = await google.colab.kernel.comms.open(id);\n",
              "      // Send a message to notify the kernel that we're ready.\n",
              "      channel.send({})\n",
              "\n",
              "      for await (const message of channel.messages) {\n",
              "        // Send a message to notify the kernel that we're ready.\n",
              "        channel.send({})\n",
              "        if (message.buffers) {\n",
              "          for (const buffer of message.buffers) {\n",
              "            buffers.push(buffer);\n",
              "            downloaded += buffer.byteLength;\n",
              "            progress.value = downloaded;\n",
              "          }\n",
              "        }\n",
              "      }\n",
              "      const blob = new Blob(buffers, {type: 'application/binary'});\n",
              "      const a = document.createElement('a');\n",
              "      a.href = window.URL.createObjectURL(blob);\n",
              "      a.download = filename;\n",
              "      div.appendChild(a);\n",
              "      a.click();\n",
              "      div.remove();\n",
              "    }\n",
              "  "
            ]
          },
          "metadata": {}
        },
        {
          "output_type": "display_data",
          "data": {
            "text/plain": [
              "<IPython.core.display.Javascript object>"
            ],
            "application/javascript": [
              "download(\"download_6bdf8568-7125-4ee3-931d-507511ba88b0\", \"franka_ultimate_dance.mp4\", 198588)"
            ]
          },
          "metadata": {}
        }
      ]
    },
    {
      "cell_type": "code",
      "source": [
        "import mujoco\n",
        "import matplotlib.pyplot as plt\n",
        "\n",
        "# The path to the Unitree H1 model within the repository we cloned\n",
        "h1_xml_path = \"mujoco_menagerie/unitree_h1/h1.xml\"\n",
        "\n",
        "print(\"Attempting to load the Unitree H1 humanoid model...\")\n",
        "try:\n",
        "    model = mujoco.MjModel.from_xml_path(h1_xml_path)\n",
        "    data = mujoco.MjData(model)\n",
        "    renderer = mujoco.Renderer(model, height=480, width=640)\n",
        "\n",
        "    # Step the simulation forward to settle the model.\n",
        "    mujoco.mj_forward(model, data)\n",
        "\n",
        "    # Render the first frame.\n",
        "    renderer.update_scene(data)\n",
        "    frame = renderer.render()\n",
        "\n",
        "    print(\"\\n\\033[1m--- LEVEL UP! Unitree H1 is online. ---\\033[0m\")\n",
        "\n",
        "    plt.imshow(frame)\n",
        "    plt.title(\"Unitree H1 Humanoid: Loaded Successfully!\")\n",
        "    plt.axis('off')\n",
        "    plt.show()\n",
        "\n",
        "except Exception as e:\n",
        "    print(f\"\\n--- ERROR ---\")\n",
        "    print(f\"An unexpected error occurred: {e}\")\n",
        ""
      ],
      "metadata": {
        "colab": {
          "base_uri": "https://localhost:8080/",
          "height": 480
        },
        "id": "LK5t-8omM3RO",
        "outputId": "189f0ee4-6fde-4e95-ff84-a4da8c0ffa9f"
      },
      "execution_count": 2,
      "outputs": [
        {
          "output_type": "stream",
          "name": "stdout",
          "text": [
            "Attempting to load the Unitree H1 humanoid model...\n",
            "\n",
            "\u001b[1m--- LEVEL UP! Unitree H1 is online. ---\u001b[0m\n"
          ]
        },
        {
          "output_type": "display_data",
          "data": {
            "text/plain": [
              "<Figure size 640x480 with 1 Axes>"
            ],
            "image/png": "[encoded data removed]"
          },
          "metadata": {}
        }
      ]
    },
    {
      "cell_type": "code",
      "source": [
        "import mujoco\n",
        "import matplotlib.pyplot as plt\n",
        "\n",
        "# This code assumes 'model', 'data', and 'renderer' are already loaded from the previous cell.\n",
        "\n",
        "print(\"Setting up the virtual photo studio...\")\n",
        "\n",
        "# --- Adjust the Camera ---\n",
        "# We can move the camera to a better position and angle.\n",
        "# 'distance' moves it further away, 'azimuth' rotates it around the robot.\n",
        "renderer.camera.distance = 3.0  # Zoom out a bit to see the whole robot\n",
        "renderer.camera.azimuth = 90    # Rotate camera 90 degrees to see it from the side\n",
        "renderer.camera.elevation = -15 # Look slightly up at the robot\n",
        "\n",
        "# --- Add Better Lighting ---\n",
        "# The default light is often dim. We can make it brighter.\n",
        "# The first light in the model is usually the main one.\n",
        "model.light('top').diffuse = [0.8, 0.8, 0.8]  # Increase brightness (RGB values)\n",
        "model.light('top').specular = [0.2, 0.2, 0.2] # Add some shine\n",
        "\n",
        "# --- Render the New, Improved View ---\n",
        "mujoco.mj_forward(model, data)\n",
        "renderer.update_scene(data)\n",
        "frame = renderer.render()\n",
        "\n",
        "print(\"\\n--- Hero Shot! ---\")\n",
        "\n",
        "plt.imshow(frame)\n",
        "plt.title(\"Unitree H1 with Improved Lighting and Camera\")\n",
        "plt.axis('off')\n",
        "plt.show()"
      ],
      "metadata": {
        "colab": {
          "base_uri": "https://localhost:8080/",
          "height": 228
        },
        "id": "wswvUss-Nw5x",
        "outputId": "3b9581d4-7150-4dfa-b4e1-2ca070e1c346"
      },
      "execution_count": 3,
      "outputs": [
        {
          "output_type": "stream",
          "name": "stdout",
          "text": [
            "Setting up the virtual photo studio...\n"
          ]
        },
        {
          "output_type": "error",
          "ename": "AttributeError",
          "evalue": "'Renderer' object has no attribute 'camera'",
          "traceback": [
            "\u001b[0;31m---------------------------------------------------------------------------\u001b[0m",
            "\u001b[0;31mAttributeError\u001b[0m                            Traceback (most recent call last)",
            "\u001b[0;32m<ipython-input-3-256058911>\u001b[0m in \u001b[0;36m<cell line: 0>\u001b[0;34m()\u001b[0m\n\u001b[1;32m      9\u001b[0m \u001b[0;31m# We can move the camera to a better position and angle.\u001b[0m\u001b[0;34m\u001b[0m\u001b[0;34m\u001b[0m\u001b[0m\n\u001b[1;32m     10\u001b[0m \u001b[0;31m# 'distance' moves it further away, 'azimuth' rotates it around the robot.\u001b[0m\u001b[0;34m\u001b[0m\u001b[0;34m\u001b[0m\u001b[0m\n\u001b[0;32m---> 11\u001b[0;31m \u001b[0mrenderer\u001b[0m\u001b[0;34m.\u001b[0m\u001b[0mcamera\u001b[0m\u001b[0;34m.\u001b[0m\u001b[0mdistance\u001b[0m \u001b[0;34m=\u001b[0m \u001b[0;36m3.0\u001b[0m  \u001b[0;31m# Zoom out a bit to see the whole robot\u001b[0m\u001b[0;34m\u001b[0m\u001b[0;34m\u001b[0m\u001b[0m\n\u001b[0m\u001b[1;32m     12\u001b[0m \u001b[0mrenderer\u001b[0m\u001b[0;34m.\u001b[0m\u001b[0mcamera\u001b[0m\u001b[0;34m.\u001b[0m\u001b[0mazimuth\u001b[0m \u001b[0;34m=\u001b[0m \u001b[0;36m90\u001b[0m    \u001b[0;31m# Rotate camera 90 degrees to see it from the side\u001b[0m\u001b[0;34m\u001b[0m\u001b[0;34m\u001b[0m\u001b[0m\n\u001b[1;32m     13\u001b[0m \u001b[0mrenderer\u001b[0m\u001b[0;34m.\u001b[0m\u001b[0mcamera\u001b[0m\u001b[0;34m.\u001b[0m\u001b[0melevation\u001b[0m \u001b[0;34m=\u001b[0m \u001b[0;34m-\u001b[0m\u001b[0;36m15\u001b[0m \u001b[0;31m# Look slightly up at the robot\u001b[0m\u001b[0;34m\u001b[0m\u001b[0;34m\u001b[0m\u001b[0m\n",
            "\u001b[0;31mAttributeError\u001b[0m: 'Renderer' object has no attribute 'camera'"
          ]
        }
      ]
    },
    {
      "cell_type": "code",
      "source": [
        "import mujoco\n",
        "import matplotlib.pyplot as plt\n",
        "\n",
        "# This code assumes 'model', 'data', and 'renderer' are already loaded from the previous step.\n",
        "\n",
        "print(\"Setting up the virtual photo studio (Debugging Camera Access)...\")\n",
        "\n",
        "# --- Debugging: Check the type and content of renderer.scene.camera ---\n",
        "print(f\"Type of renderer.scene.camera: {type(renderer.scene.camera)}\")\n",
        "try:\n",
        "    print(f\"Content of renderer.scene.camera: {renderer.scene.camera}\")\n",
        "except Exception as e:\n",
        "    print(f\"Could not print content of renderer.scene.camera: {e}\")\n",
        "\n",
        "\n",
        "# --- Adjust the Camera (The Correct Way based on documentation - trying again) ---\n",
        "# Access the mjvCamera struct through the renderer's scene object.\n",
        "# Set azimuth, elevation, and distance directly on this camera object.\n",
        "# Based on documentation, this should work, despite previous errors.\n",
        "try:\n",
        "    renderer.scene.camera.azimuth = 90\n",
        "    renderer.scene.camera.elevation = -15\n",
        "    renderer.scene.camera.distance = 3.5\n",
        "    renderer.scene.camera.lookat[:] = data.qpos[:3] # Look at the robot's base\n",
        "\n",
        "    print(\"Successfully adjusted camera parameters via renderer.scene.camera\")\n",
        "\n",
        "except AttributeError as e:\n",
        "    print(f\"AttributeError when adjusting camera: {e}\")\n",
        "    print(\"renderer.scene.camera does not have the expected attributes or is not an mjvCamera.\")\n",
        "except TypeError as e:\n",
        "    print(f\"TypeError when adjusting camera: {e}\")\n",
        "    print(\"renderer.scene.camera is likely a tuple or not the expected object.\")\n",
        "except Exception as e:\n",
        "    print(f\"An unexpected error occurred when adjusting camera: {e}\")\n",
        "\n",
        "\n",
        "# --- Add Better Lighting ---\n",
        "# This part remains the same. We can still modify the model's light properties.\n",
        "model.light('top').diffuse = [0.9, 0.9, 0.9]\n",
        "model.light('top').specular = [0.3, 0.3, 0.3]\n",
        "\n",
        "# --- Render the New, Improved View ---\n",
        "mujoco.mj_forward(model, data)\n",
        "# Pass the camera explicitly if modifying renderer.scene.camera doesn't work directly\n",
        "# renderer.update_scene(data, camera=renderer.scene.camera) # This might be needed if direct modification isn't reflected\n",
        "\n",
        "# Let's try updating the scene without explicitly passing the camera first, as modifying renderer.scene.camera\n",
        "# should ideally update the scene's camera used for rendering.\n",
        "renderer.update_scene(data)\n",
        "frame = renderer.render()\n",
        "\n",
        "print(\"\\n--- Hero Shot! (Take 5 - Debugging and Retrying scene.camera) ---\")\n",
        "\n",
        "plt.imshow(frame)\n",
        "plt.title(\"Unitree H1 with Improved Lighting and Camera\")\n",
        "plt.axis('off')\n",
        "plt.show()"
      ],
      "metadata": {
        "colab": {
          "base_uri": "https://localhost:8080/",
          "height": 679
        },
        "id": "IasYwVFWOTbR",
        "outputId": "b568377e-fc54-4a16-ffbd-c68995060fbc"
      },
      "execution_count": 12,
      "outputs": [
        {
          "output_type": "stream",
          "name": "stdout",
          "text": [
            "Setting up the virtual photo studio (Debugging Camera Access)...\n",
            "Type of renderer.scene.camera: <class 'tuple'>\n",
            "Content of renderer.scene.camera: (<MjvGLCamera\n",
            "  forward: array([0., 0., 0.], dtype=float32)\n",
            "  frustum_bottom: 0.0\n",
            "  frustum_center: 0.0\n",
            "  frustum_far: 0.0\n",
            "  frustum_near: 0.0\n",
            "  frustum_top: 0.0\n",
            "  frustum_width: 0.0\n",
            "  orthographic: 0\n",
            "  pos: array([0., 0., 0.], dtype=float32)\n",
            "  up: array([0., 0., 0.], dtype=float32)\n",
            ">, <MjvGLCamera\n",
            "  forward: array([0., 0., 0.], dtype=float32)\n",
            "  frustum_bottom: 0.0\n",
            "  frustum_center: 0.0\n",
            "  frustum_far: 0.0\n",
            "  frustum_near: 0.0\n",
            "  frustum_top: 0.0\n",
            "  frustum_width: 0.0\n",
            "  orthographic: 0\n",
            "  pos: array([0., 0., 0.], dtype=float32)\n",
            "  up: array([0., 0., 0.], dtype=float32)\n",
            ">)\n",
            "AttributeError when adjusting camera: 'tuple' object has no attribute 'azimuth'\n",
            "renderer.scene.camera does not have the expected attributes or is not an mjvCamera.\n"
          ]
        },
        {
          "output_type": "error",
          "ename": "KeyError",
          "evalue": "\"Invalid name 'top'. Valid names: []\"",
          "traceback": [
            "\u001b[0;31m---------------------------------------------------------------------------\u001b[0m",
            "\u001b[0;31mKeyError\u001b[0m                                  Traceback (most recent call last)",
            "\u001b[0;32m<ipython-input-12-2736249900>\u001b[0m in \u001b[0;36m<cell line: 0>\u001b[0;34m()\u001b[0m\n\u001b[1;32m     38\u001b[0m \u001b[0;31m# --- Add Better Lighting ---\u001b[0m\u001b[0;34m\u001b[0m\u001b[0;34m\u001b[0m\u001b[0m\n\u001b[1;32m     39\u001b[0m \u001b[0;31m# This part remains the same. We can still modify the model's light properties.\u001b[0m\u001b[0;34m\u001b[0m\u001b[0;34m\u001b[0m\u001b[0m\n\u001b[0;32m---> 40\u001b[0;31m \u001b[0mmodel\u001b[0m\u001b[0;34m.\u001b[0m\u001b[0mlight\u001b[0m\u001b[0;34m(\u001b[0m\u001b[0;34m'top'\u001b[0m\u001b[0;34m)\u001b[0m\u001b[0;34m.\u001b[0m\u001b[0mdiffuse\u001b[0m \u001b[0;34m=\u001b[0m \u001b[0;34m[\u001b[0m\u001b[0;36m0.9\u001b[0m\u001b[0;34m,\u001b[0m \u001b[0;36m0.9\u001b[0m\u001b[0;34m,\u001b[0m \u001b[0;36m0.9\u001b[0m\u001b[0;34m]\u001b[0m\u001b[0;34m\u001b[0m\u001b[0;34m\u001b[0m\u001b[0m\n\u001b[0m\u001b[1;32m     41\u001b[0m \u001b[0mmodel\u001b[0m\u001b[0;34m.\u001b[0m\u001b[0mlight\u001b[0m\u001b[0;34m(\u001b[0m\u001b[0;34m'top'\u001b[0m\u001b[0;34m)\u001b[0m\u001b[0;34m.\u001b[0m\u001b[0mspecular\u001b[0m \u001b[0;34m=\u001b[0m \u001b[0;34m[\u001b[0m\u001b[0;36m0.3\u001b[0m\u001b[0;34m,\u001b[0m \u001b[0;36m0.3\u001b[0m\u001b[0;34m,\u001b[0m \u001b[0;36m0.3\u001b[0m\u001b[0;34m]\u001b[0m\u001b[0;34m\u001b[0m\u001b[0;34m\u001b[0m\u001b[0m\n\u001b[1;32m     42\u001b[0m \u001b[0;34m\u001b[0m\u001b[0m\n",
            "\u001b[0;31mKeyError\u001b[0m: \"Invalid name 'top'. Valid names: []\""
          ]
        }
      ]
    },
    {
      "cell_type": "code",
      "source": [
        "import mujoco\n",
        "import matplotlib.pyplot as plt\n",
        "\n",
        "# This code assumes 'model', 'data', and 'renderer' are already loaded.\n",
        "\n",
        "print(\"Setting up the virtual photo studio (Corrected Camera Access)...\")\n",
        "\n",
        "# --- Adjust the Camera (Using the Correct Camera ID and attributes) ---\n",
        "# Accessing the camera with ID 0 (default camera)\n",
        "camera_id = 0\n",
        "\n",
        "# Let's use the mjvCamera struct which controls the viewpoint.\n",
        "# Try accessing mjvCamera and mjv_defaultCamera directly from mujoco\n",
        "camera = mujoco.mjvCamera()\n",
        "mujoco.mjv_defaultCamera(camera)\n",
        "\n",
        "# Set camera parameters - these are fields in the mjvCamera struct\n",
        "camera.azimuth = 90\n",
        "camera.elevation = -15\n",
        "camera.distance = 3.5\n",
        "camera.lookat[:] = data.qpos[:3] # Look at the robot's base\n",
        "\n",
        "\n",
        "# --- Add Better Lighting ---\n",
        "model.light('top').diffuse = [0.9, 0.9, 0.9]\n",
        "model.light('top').specular = [0.3, 0.3, 0.3]\n",
        "\n",
        "\n",
        "# --- Render the New, Improved View ---\n",
        "# Pass the mjvCamera to the update_scene method\n",
        "renderer.update_scene(data, camera=camera)\n",
        "frame = renderer.render()\n",
        "\n",
        "print(\"\\n--- Hero Shot! (Take 5 - Direct Access) ---\")\n",
        "\n",
        "plt.imshow(frame)\n",
        "plt.title(\"Unitree H1 with Improved Lighting and Camera\")\n",
        "plt.axis('off')\n",
        "plt.show()"
      ],
      "metadata": {
        "colab": {
          "base_uri": "https://localhost:8080/",
          "height": 228
        },
        "id": "2S1iQb2WOtTC",
        "outputId": "d498e362-4ebb-48c4-f7a9-43bdaf1cbb1d"
      },
      "execution_count": 8,
      "outputs": [
        {
          "output_type": "stream",
          "name": "stdout",
          "text": [
            "Setting up the virtual photo studio (Corrected Camera Access)...\n"
          ]
        },
        {
          "output_type": "error",
          "ename": "AttributeError",
          "evalue": "module 'mujoco' has no attribute 'mjvCamera'",
          "traceback": [
            "\u001b[0;31m---------------------------------------------------------------------------\u001b[0m",
            "\u001b[0;31mAttributeError\u001b[0m                            Traceback (most recent call last)",
            "\u001b[0;32m<ipython-input-8-2743959389>\u001b[0m in \u001b[0;36m<cell line: 0>\u001b[0;34m()\u001b[0m\n\u001b[1;32m     12\u001b[0m \u001b[0;31m# Let's use the mjvCamera struct which controls the viewpoint.\u001b[0m\u001b[0;34m\u001b[0m\u001b[0;34m\u001b[0m\u001b[0m\n\u001b[1;32m     13\u001b[0m \u001b[0;31m# Try accessing mjvCamera and mjv_defaultCamera directly from mujoco\u001b[0m\u001b[0;34m\u001b[0m\u001b[0;34m\u001b[0m\u001b[0m\n\u001b[0;32m---> 14\u001b[0;31m \u001b[0mcamera\u001b[0m \u001b[0;34m=\u001b[0m \u001b[0mmujoco\u001b[0m\u001b[0;34m.\u001b[0m\u001b[0mmjvCamera\u001b[0m\u001b[0;34m(\u001b[0m\u001b[0;34m)\u001b[0m\u001b[0;34m\u001b[0m\u001b[0;34m\u001b[0m\u001b[0m\n\u001b[0m\u001b[1;32m     15\u001b[0m \u001b[0mmujoco\u001b[0m\u001b[0;34m.\u001b[0m\u001b[0mmjv_defaultCamera\u001b[0m\u001b[0;34m(\u001b[0m\u001b[0mcamera\u001b[0m\u001b[0;34m)\u001b[0m\u001b[0;34m\u001b[0m\u001b[0;34m\u001b[0m\u001b[0m\n\u001b[1;32m     16\u001b[0m \u001b[0;34m\u001b[0m\u001b[0m\n",
            "\u001b[0;31mAttributeError\u001b[0m: module 'mujoco' has no attribute 'mjvCamera'"
          ]
        }
      ]
    },
    {
      "cell_type": "code",
      "metadata": {
        "colab": {
          "base_uri": "https://localhost:8080/"
        },
        "id": "f27e18f8",
        "outputId": "81038007-9d49-4185-a1c9-a687c0481eb4"
      },
      "source": [
        "import mujoco\n",
        "\n",
        "# The path to the XML file\n",
        "h1_xml_path = \"mujoco_menagerie/unitree_h1/h1.xml\"\n",
        "\n",
        "print(f\"Reloading the Unitree H1 model from: {h1_xml_path}\")\n",
        "try:\n",
        "    model = mujoco.MjModel.from_xml_path(h1_xml_path)\n",
        "    data = mujoco.MjData(model)\n",
        "    # Re-initialize the renderer as well\n",
        "    renderer = mujoco.Renderer(model, height=480, width=640)\n",
        "\n",
        "    print(\"\\nModel reloaded successfully. You can now try rendering with the new lighting.\")\n",
        "\n",
        "except Exception as e:\n",
        "    print(f\"\\n--- ERROR ---\")\n",
        "    print(f\"An error occurred while reloading the model: {e}\")"
      ],
      "execution_count": 11,
      "outputs": [
        {
          "output_type": "stream",
          "name": "stdout",
          "text": [
            "Reloading the Unitree H1 model from: mujoco_menagerie/unitree_h1/h1.xml\n",
            "\n",
            "Model reloaded successfully. You can now try rendering with the new lighting.\n"
          ]
        }
      ]
    },
    {
      "cell_type": "code",
      "source": [
        "import mujoco\n",
        "import numpy as np\n",
        "import imageio\n",
        "from moviepy.editor import VideoFileClip\n",
        "from google.colab import files\n",
        "import os # Import os to check for temporary file existence\n",
        "\n",
        "# This code assumes 'model', 'data', and 'renderer' for the Unitree H1 are loaded.\n",
        "\n",
        "# --- Animation Parameters ---\n",
        "duration = 5  # Let's make a shorter, 5-second animation\n",
        "framerate = 30\n",
        "num_frames = duration * framerate\n",
        "output_filename_mp4 = \"humanoid_squat.mp4\"\n",
        "temp_gif_for_conversion = \"temp_humanoid.gif\"\n",
        "\n",
        "# --- 1. Frame Generation ---\n",
        "frames = []\n",
        "print(f\"Generating {num_frames} frames for the humanoid squat animation...\")\n",
        "\n",
        "mujoco.mj_resetData(model, data) # Reset to starting pose\n",
        "\n",
        "for i in range(num_frames):\n",
        "  time = i / framerate\n",
        "\n",
        "  # --- Humanoid Choreography: The Squat ---\n",
        "  # We'll use a sine wave to create a smooth up-and-down motion.\n",
        "  # The motion will go from 0 to -0.7 radians and back.\n",
        "  squat_angle = -0.7 * (0.5 * (1 - np.cos(2 * np.pi * 0.5 * time)))\n",
        "\n",
        "  # Apply the same squat angle to the hip and knee joints for both legs\n",
        "  # Correctly access control signals by actuator name\n",
        "  # Assuming actuator names match joint names with '_motor' suffix or similar based on XML conventions.\n",
        "  # You might need to verify the exact actuator names from the H1 XML file.\n",
        "  try:\n",
        "      data.actuator('left_hip_pitch').ctrl[0] = squat_angle\n",
        "      data.actuator('right_hip_pitch').ctrl[0] = squat_angle\n",
        "      data.actuator('left_knee').ctrl[0] = -2 * squat_angle  # Knees bend more than hips\n",
        "      data.actuator('right_knee').ctrl[0] = -2 * squat_angle\n",
        "  except Exception as e:\n",
        "      print(f\"Error setting actuator control: {e}\")\n",
        "      print(\"Please verify the actuator names in your H1 XML model.\")\n",
        "      # Fallback: Try setting control by joint ID if actuators are not named directly\n",
        "      # This requires knowing the joint IDs for hip pitch and knee\n",
        "      # print(\"Attempting to set control by joint ID (requires knowing IDs)...\")\n",
        "      # try:\n",
        "      #     left_hip_pitch_joint_id = model.joint_name2id('left_hip_pitch')\n",
        "      #     right_hip_pitch_joint_id = model.joint_name2id('right_hip_pitch')\n",
        "      #     left_knee_joint_id = model.joint_name2id('left_knee')\n",
        "      #     right_knee_joint_id = model.joint_name2id('right_knee')\n",
        "      #     data.ctrl[left_hip_pitch_joint_id] = squat_angle\n",
        "      #     data.ctrl[right_hip_pitch_joint_id] = squat_angle\n",
        "      #     data.ctrl[left_knee_joint_id] = -2 * squat_angle\n",
        "      #     data.ctrl[right_knee_joint_id] = -2 * squat_angle\n",
        "      #     print(\"Successfully set control by joint ID.\")\n",
        "      # except Exception as e_id:\n",
        "      #      print(f\"Error setting control by joint ID: {e_id}\")\n",
        "      #      print(\"Could not set control signals. Please check joint/actuator names and IDs.\")\n",
        "      #      break # Exit loop on error\n",
        "\n",
        "\n",
        "  # Step the simulation and render the frame\n",
        "  mujoco.mj_step(model, data)\n",
        "  renderer.update_scene(data)\n",
        "  frame = renderer.render()\n",
        "  frames.append(frame)\n",
        "\n",
        "print(\"Frame generation complete.\")\n",
        "\n",
        "\n",
        "# --- 2. Create and Convert Video ---\n",
        "print(\"Creating temporary GIF...\")\n",
        "# Ensure the frames list is not empty\n",
        "if not frames:\n",
        "    print(\"No frames were generated due to an error. Cannot create video.\")\n",
        "else:\n",
        "    imageio.mimsave(temp_gif_for_conversion, frames, fps=framerate, loop=0)\n",
        "\n",
        "    print(\"Converting GIF to MP4...\")\n",
        "    try:\n",
        "        clip = VideoFileClip(temp_gif_for_conversion)\n",
        "        clip.write_videofile(output_filename_mp4, codec='libx264', fps=framerate, logger=None)\n",
        "        clip.close()\n",
        "        print(f\"MP4 '{output_filename_mp4}' created successfully.\")\n",
        "\n",
        "        # --- 3. Download Your Final MP4 ---\n",
        "        print(\"Preparing final download...\")\n",
        "        files.download(output_filename_mp4)\n",
        "\n",
        "    except Exception as e:\n",
        "        print(f\"Error during video conversion or download: {e}\")\n",
        "\n",
        "    finally:\n",
        "        # Clean up the temporary GIF file\n",
        "        if os.path.exists(temp_gif_for_conversion):\n",
        "            os.remove(temp_gif_for_conversion)\n",
        "            print(f\"Cleaned up temporary file: {temp_gif_for_conversion}\")"
      ],
      "metadata": {
        "colab": {
          "base_uri": "https://localhost:8080/",
          "height": 138
        },
        "id": "oKENV-hRSQa0",
        "outputId": "e988d439-7a6e-4e85-fe2c-8f4e5a447637"
      },
      "execution_count": 14,
      "outputs": [
        {
          "output_type": "stream",
          "name": "stdout",
          "text": [
            "Generating 150 frames for the humanoid squat animation...\n",
            "Frame generation complete.\n",
            "Creating temporary GIF...\n",
            "Converting GIF to MP4...\n",
            "MP4 'humanoid_squat.mp4' created successfully.\n",
            "Preparing final download...\n"
          ]
        },
        {
          "output_type": "display_data",
          "data": {
            "text/plain": [
              "<IPython.core.display.Javascript object>"
            ],
            "application/javascript": [
              "\n",
              "    async function download(id, filename, size) {\n",
              "      if (!google.colab.kernel.accessAllowed) {\n",
              "        return;\n",
              "      }\n",
              "      const div = document.createElement('div');\n",
              "      const label = document.createElement('label');\n",
              "      label.textContent = `Downloading \"${filename}\": `;\n",
              "      div.appendChild(label);\n",
              "      const progress = document.createElement('progress');\n",
              "      progress.max = size;\n",
              "      div.appendChild(progress);\n",
              "      document.body.appendChild(div);\n",
              "\n",
              "      const buffers = [];\n",
              "      let downloaded = 0;\n",
              "\n",
              "      const channel = await google.colab.kernel.comms.open(id);\n",
              "      // Send a message to notify the kernel that we're ready.\n",
              "      channel.send({})\n",
              "\n",
              "      for await (const message of channel.messages) {\n",
              "        // Send a message to notify the kernel that we're ready.\n",
              "        channel.send({})\n",
              "        if (message.buffers) {\n",
              "          for (const buffer of message.buffers) {\n",
              "            buffers.push(buffer);\n",
              "            downloaded += buffer.byteLength;\n",
              "            progress.value = downloaded;\n",
              "          }\n",
              "        }\n",
              "      }\n",
              "      const blob = new Blob(buffers, {type: 'application/binary'});\n",
              "      const a = document.createElement('a');\n",
              "      a.href = window.URL.createObjectURL(blob);\n",
              "      a.download = filename;\n",
              "      div.appendChild(a);\n",
              "      a.click();\n",
              "      div.remove();\n",
              "    }\n",
              "  "
            ]
          },
          "metadata": {}
        },
        {
          "output_type": "display_data",
          "data": {
            "text/plain": [
              "<IPython.core.display.Javascript object>"
            ],
            "application/javascript": [
              "download(\"download_d1f92fb9-bf85-4e1d-8f00-f03e4e4c5b83\", \"humanoid_squat.mp4\", 26793)"
            ]
          },
          "metadata": {}
        },
        {
          "output_type": "stream",
          "name": "stdout",
          "text": [
            "Cleaned up temporary file: temp_humanoid.gif\n"
          ]
        }
      ]
    },
    {
      "cell_type": "code",
      "source": [
        "import mujoco\n",
        "import numpy as np\n",
        "import imageio\n",
        "from moviepy.editor import VideoFileClip\n",
        "from google.colab import files\n",
        "import os # Import os if needed for file cleanup later\n",
        "\n",
        "# This code assumes 'model', 'data', and 'renderer' for the Unitree H1 are loaded.\n",
        "\n",
        "# --- 1. Set up the \"Photo Studio\" and Geometry Visibility ---\n",
        "print(\"Setting up the scene with high-quality visuals...\")\n",
        "\n",
        "# Set the camera for a good view by calculating pos, forward, up\n",
        "# Access the main camera object (assuming it's the first element of the tuple)\n",
        "camera_obj = renderer.scene.camera[0]\n",
        "\n",
        "# Define desired camera parameters (azimuth, elevation, distance, and lookat)\n",
        "desired_azimuth = 135 # degrees\n",
        "desired_elevation = -15 # degrees\n",
        "desired_distance = 3.5\n",
        "lookat_point = [0, 0, 0.9] # Point camera at the robot's torso (as in original code)\n",
        "\n",
        "# Convert degrees to radians\n",
        "azimuth_rad = np.deg2rad(desired_azimuth)\n",
        "elevation_rad = np.deg2rad(desired_elevation)\n",
        "\n",
        "# Calculate camera position\n",
        "# Spherical coordinates to Cartesian relative to lookat point\n",
        "x = lookat_point[0] + desired_distance * np.cos(elevation_rad) * np.cos(azimuth_rad)\n",
        "y = lookat_point[1] + desired_distance * np.cos(elevation_rad) * np.sin(azimuth_rad)\n",
        "z = lookat_point[2] + desired_distance * np.sin(elevation_rad)\n",
        "\n",
        "camera_pos = np.array([x, y, z], dtype=np.float32)\n",
        "\n",
        "# Calculate forward vector (direction from camera position to lookat point)\n",
        "forward_vector = np.array(lookat_point, dtype=np.float32) - camera_pos\n",
        "forward_vector = forward_vector / np.linalg.norm(forward_vector) # Normalize\n",
        "\n",
        "# Calculate up vector (assuming Z is up in the world)\n",
        "world_up = np.array([0, 0, 1], dtype=np.float32)\n",
        "right_vector = np.cross(forward_vector, world_up)\n",
        "right_vector = right_vector / np.linalg.norm(right_vector)\n",
        "up_vector = np.cross(right_vector, forward_vector)\n",
        "up_vector = up_vector / np.linalg.norm(up_vector)\n",
        "\n",
        "# Set the camera object's attributes\n",
        "camera_obj.pos[:] = camera_pos\n",
        "camera_obj.forward[:] = forward_vector\n",
        "camera_obj.up[:] = up_vector\n",
        "\n",
        "print(\"Successfully adjusted camera parameters.\")\n",
        "\n",
        "\n",
        "# Make the lighting brighter - Removed as 'top' light does not exist\n",
        "# print(\"Adjusting lighting...\")\n",
        "# model.light('top').diffuse = [0.9, 0.9, 0.9]\n",
        "# model.light('top').specular = [0.3, 0.3, 0.3]\n",
        "# print(\"Lighting adjusted.\")\n",
        "\n",
        "\n",
        "# *** THE KEY FIX IS HERE (Attempting integer indexing for rendering flags) ***\n",
        "# Tell the renderer to ONLY show the detailed visual model (geom group 0)\n",
        "# and HIDE the blocky collision model (geom group 1).\n",
        "# Attempting to use integer indices based on typical MuJoCo flag values\n",
        "try:\n",
        "    # Assuming index 0 corresponds to mjRND_GEOM_GROUP (enables geom group filtering)\n",
        "    renderer.scene.flags[0] = True\n",
        "\n",
        "    # Assuming subsequent indices correspond to specific groups (this is a guess)\n",
        "    # This part might be incorrect depending on the exact flag structure\n",
        "    # Let's try enabling group 0 and disabling group 1.\n",
        "    # The exact indices for individual groups are not explicitly documented this way.\n",
        "\n",
        "    # Let's try a different interpretation: setting the GEOM_GROUP flag to enable filtering,\n",
        "    # and then perhaps another mechanism to specify which groups are visible.\n",
        "    # However, the original code attempted to index with GEOM_GROUP_0 and GEOM_GROUP_1.\n",
        "\n",
        "    # Let's try setting the flag at index 0 to enable filtering, and then\n",
        "    # attempt to set the flags for group 0 and 1 using indices relative to mjRND_GEOM_GROUP\n",
        "    # as was intended, but using the correct base index.\n",
        "    # If mjRND_GEOM_GROUP is at index 0, then group 0 might be at index 0 and group 1 at index 1,\n",
        "    # or they might be at indices 0+0 and 0+1 relative to a base.\n",
        "\n",
        "    # Let's try setting the flag at index 0 to True (enable geom group filtering).\n",
        "    renderer.scene.flags[0] = True\n",
        "\n",
        "    # Now, how to specify which groups are visible? The original code used indexing\n",
        "    # with GEOM_GROUP_0 and GEOM_GROUP_1.\n",
        "    # Let's assume the flags for groups are contiguous after the mjRND_GEOM_GROUP flag.\n",
        "    # This is a strong assumption and might be incorrect.\n",
        "\n",
        "    # Let's try to set the flags at indices 0 and 1 to control groups 0 and 1 respectively.\n",
        "    # This is a simplified guess based on the original code's intent.\n",
        "    renderer.scene.flags[0] = True # Show geom group 0\n",
        "    renderer.scene.flags[1] = False # Hide geom group 1 (Guessing index 1 corresponds to group 1)\n",
        "\n",
        "    print(\"Set geometry visibility flags using integer indices.\")\n",
        "\n",
        "except IndexError as e:\n",
        "    print(f\"IndexError when setting geometry flags: {e}\")\n",
        "    print(\"The integer indices used for geometry flags might be incorrect.\")\n",
        "except Exception as e:\n",
        "    print(f\"An unexpected error occurred when setting geometry flags: {e}\")\n",
        "\n",
        "\n",
        "# --- 2. Frame Generation ---\n",
        "duration = 5\n",
        "framerate = 30\n",
        "num_frames = duration * framerate\n",
        "output_filename_mp4 = \"humanoid_squat_hq.mp4\"\n",
        "temp_gif_for_conversion = \"temp_humanoid_hq.gif\"\n",
        "\n",
        "frames = []\n",
        "print(f\"Generating {num_frames} high-quality frames...\")\n",
        "\n",
        "mujoco.mj_resetData(model, data) # Reset to starting pose\n",
        "\n",
        "for i in range(num_frames):\n",
        "  time = i / framerate\n",
        "  squat_angle = -0.7 * (0.5 * (1 - np.cos(2 * np.pi * 0.5 * time)))\n",
        "\n",
        "  # Apply the same squat angle to the hip and knee joints for both legs\n",
        "  # Using data.actuator() as fixed previously\n",
        "  try:\n",
        "      data.actuator('left_hip_pitch').ctrl[0] = squat_angle\n",
        "      data.actuator('right_hip_pitch').ctrl[0] = squat_angle\n",
        "      data.actuator('left_knee').ctrl[0] = -2 * squat_angle  # Knees bend more than hips\n",
        "      data.actuator('right_knee').ctrl[0] = -2 * squat_angle\n",
        "  except Exception as e:\n",
        "      print(f\"Error setting actuator control: {e}\")\n",
        "      print(\"Please verify the actuator names in your H1 XML model.\")\n",
        "      # Optionally break or handle the error more gracefully\n",
        "      break # Exit loop on error\n",
        "\n",
        "\n",
        "  mujoco.mj_step(model, data)\n",
        "  renderer.update_scene(data)\n",
        "  frame = renderer.render()\n",
        "  frames.append(frame)\n",
        "\n",
        "# Check if any frames were generated\n",
        "if not frames:\n",
        "    print(\"Frame generation failed. Cannot create video.\")\n",
        "else:\n",
        "    print(\"Frame generation complete.\")\n",
        "\n",
        "    # --- 3. Create and Download Final Video ---\n",
        "    print(\"Creating high-quality MP4...\")\n",
        "    try:\n",
        "        # imageio.mimsave requires a list of frames\n",
        "        imageio.mimsave(temp_gif_for_conversion, frames, fps=framerate) # Removed loop=0 as it's not always needed and can cause issues\n",
        "        clip = VideoFileClip(temp_gif_for_conversion)\n",
        "        clip.write_videofile(output_filename_mp4, codec='libx264', fps=framerate, logger=None)\n",
        "        clip.close()\n",
        "\n",
        "        print(f\"MP4 '{output_filename_mp4}' created successfully.\")\n",
        "        print(\"Preparing final download...\")\n",
        "        files.download(output_filename_mp4)\n",
        "\n",
        "    except Exception as e:\n",
        "        print(f\"Error during video conversion or download: {e}\")\n",
        "        print(\"Please ensure you have moviepy and imageio installed (`pip install moviepy imageio`).\")\n",
        "\n",
        "    finally:\n",
        "        # Clean up the temporary GIF file\n",
        "        if os.path.exists(temp_gif_for_conversion):\n",
        "            os.remove(temp_gif_for_conversion)\n",
        "            print(f\"Cleaned up temporary file: {temp_gif_for_conversion}\")"
      ],
      "metadata": {
        "colab": {
          "base_uri": "https://localhost:8080/",
          "height": 173
        },
        "id": "jarccb3OTnal",
        "outputId": "96a40cd7-e7af-4b4d-a7c8-ee94b214b5b6"
      },
      "execution_count": 18,
      "outputs": [
        {
          "output_type": "stream",
          "name": "stdout",
          "text": [
            "Setting up the scene with high-quality visuals...\n",
            "Successfully adjusted camera parameters.\n",
            "Set geometry visibility flags using integer indices.\n",
            "Generating 150 high-quality frames...\n",
            "Frame generation complete.\n",
            "Creating high-quality MP4...\n",
            "MP4 'humanoid_squat_hq.mp4' created successfully.\n",
            "Preparing final download...\n"
          ]
        },
        {
          "output_type": "display_data",
          "data": {
            "text/plain": [
              "<IPython.core.display.Javascript object>"
            ],
            "application/javascript": [
              "\n",
              "    async function download(id, filename, size) {\n",
              "      if (!google.colab.kernel.accessAllowed) {\n",
              "        return;\n",
              "      }\n",
              "      const div = document.createElement('div');\n",
              "      const label = document.createElement('label');\n",
              "      label.textContent = `Downloading \"${filename}\": `;\n",
              "      div.appendChild(label);\n",
              "      const progress = document.createElement('progress');\n",
              "      progress.max = size;\n",
              "      div.appendChild(progress);\n",
              "      document.body.appendChild(div);\n",
              "\n",
              "      const buffers = [];\n",
              "      let downloaded = 0;\n",
              "\n",
              "      const channel = await google.colab.kernel.comms.open(id);\n",
              "      // Send a message to notify the kernel that we're ready.\n",
              "      channel.send({})\n",
              "\n",
              "      for await (const message of channel.messages) {\n",
              "        // Send a message to notify the kernel that we're ready.\n",
              "        channel.send({})\n",
              "        if (message.buffers) {\n",
              "          for (const buffer of message.buffers) {\n",
              "            buffers.push(buffer);\n",
              "            downloaded += buffer.byteLength;\n",
              "            progress.value = downloaded;\n",
              "          }\n",
              "        }\n",
              "      }\n",
              "      const blob = new Blob(buffers, {type: 'application/binary'});\n",
              "      const a = document.createElement('a');\n",
              "      a.href = window.URL.createObjectURL(blob);\n",
              "      a.download = filename;\n",
              "      div.appendChild(a);\n",
              "      a.click();\n",
              "      div.remove();\n",
              "    }\n",
              "  "
            ]
          },
          "metadata": {}
        },
        {
          "output_type": "display_data",
          "data": {
            "text/plain": [
              "<IPython.core.display.Javascript object>"
            ],
            "application/javascript": [
              "download(\"download_6df2393a-700e-4835-9d84-9047afbbd424\", \"humanoid_squat_hq.mp4\", 26793)"
            ]
          },
          "metadata": {}
        },
        {
          "output_type": "stream",
          "name": "stdout",
          "text": [
            "Cleaned up temporary file: temp_humanoid_hq.gif\n"
          ]
        }
      ]
    }
  ]
}